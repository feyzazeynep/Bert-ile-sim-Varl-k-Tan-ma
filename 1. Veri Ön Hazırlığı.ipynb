{
 "cells": [
  {
   "cell_type": "markdown",
   "metadata": {},
   "source": [
    "# 1. Veri Ön Hazırlığı\n",
    "\n",
    "Elimizde 541.329 adet İsim, Varlık, Lokasyon, Organizasyon şeklinde etiketlenmiş veri bulunuyor. Bunları İngilizcede gördüğümüz verisetine uyarlamak için çeşitli veri ön işleme yöntemlerine tabii tutacağız."
   ]
  },
  {
   "cell_type": "code",
   "execution_count": 1,
   "metadata": {},
   "outputs": [],
   "source": [
    "import pandas as pd\n",
    "from tqdm import tqdm\n",
    "import numpy as np\n",
    "import matplotlib.pyplot as plt\n",
    "plt.style.use(\"ggplot\")"
   ]
  },
  {
   "cell_type": "code",
   "execution_count": 2,
   "metadata": {},
   "outputs": [],
   "source": [
    "# Mendeley'den aldığımız verisetini okutuyoruz.\n",
    "data_coarse = pd.read_csv(\"NER_Datasets/data_coarse.txt\", sep=\"\\t\", encoding=\"utf-8\", header=None)\n",
    "data_coarse"
   ]
  },
  {
   "cell_type": "code",
   "execution_count": 5,
   "metadata": {},
   "outputs": [],
   "source": [
    "# Veri setinde kolon isimleri belli olmadığı için onları belirliyoruz.\n",
    "data_coarse.columns = [\"Category\",\"Ner_Tags\",\"Text\"]"
   ]
  },
  {
   "cell_type": "code",
   "execution_count": 6,
   "metadata": {},
   "outputs": [
    {
     "data": {
      "text/plain": [
       "(\"Casanova , İsviçre Federal Yüksek Mahkemesi eski Başkanı , Nay Giusep'in pratiğinde bir avukat olarak çalıştı .\",\n",
       " 'B-MISC O B-ORGANIZATION I-ORGANIZATION I-ORGANIZATION I-ORGANIZATION O O O O O O O O O O O')"
      ]
     },
     "execution_count": 6,
     "metadata": {},
     "output_type": "execute_result"
    }
   ],
   "source": [
    "# Örnek bir satır veriyi alıyoruz.\n",
    "data_coarse.iloc[1]['Text'], data_coarse.iloc[1].Ner_Tags"
   ]
  },
  {
   "cell_type": "code",
   "execution_count": 7,
   "metadata": {},
   "outputs": [
    {
     "data": {
      "text/plain": [
       "('B-MISC O B-ORGANIZATION I-ORGANIZATION I-ORGANIZATION I-ORGANIZATION O O O O O O O O O O O',\n",
       " \"Casanova , İsviçre Federal Yüksek Mahkemesi eski Başkanı , Nay Giusep'in pratiğinde bir avukat olarak çalıştı .\")"
      ]
     },
     "execution_count": 7,
     "metadata": {},
     "output_type": "execute_result"
    }
   ],
   "source": [
    "# Örnek bir satır veriyi alıyoruz.\n",
    "data_coarse.iloc[1].Ner_Tags, data_coarse.iloc[1].Text"
   ]
  },
  {
   "cell_type": "code",
   "execution_count": 8,
   "metadata": {},
   "outputs": [
    {
     "name": "stderr",
     "output_type": "stream",
     "text": [
      "100%|████| 541329/541329 [02:57<00:00, 3057.33it/s]\n"
     ]
    }
   ],
   "source": [
    "# Muadili olan ingilizce verisetine çevirmek için önce cümleyi parçalıyoruz. Ardından kelime kelime etiketlerini getiriyoruz.\n",
    "big_data = []\n",
    "for index in tqdm(data_coarse.index):\n",
    "    for word,tag in zip(data_coarse.iloc[index]['Text'].split(\" \"), data_coarse.iloc[index]['Ner_Tags'].split(\" \")):\n",
    "        mini_data = {}\n",
    "        mini_data['Sentence #'] = \"Sentence: \"+str(index)\n",
    "        mini_data['Word'] = word\n",
    "        mini_data['Tag'] = tag\n",
    "        big_data.append(mini_data)"
   ]
  },
  {
   "cell_type": "code",
   "execution_count": 7,
   "metadata": {},
   "outputs": [],
   "source": [
    "data = pd.DataFrame(big_data)"
   ]
  },
  {
   "cell_type": "code",
   "execution_count": 8,
   "metadata": {},
   "outputs": [],
   "source": [
    "# Verisetini kaydediyoruz.\n",
    "data.to_csv('clean_ner_data.csv')"
   ]
  },
  {
   "cell_type": "code",
   "execution_count": null,
   "metadata": {},
   "outputs": [],
   "source": []
  }
 ],
 "metadata": {
  "kernelspec": {
   "display_name": "Python 3",
   "language": "python",
   "name": "python3"
  },
  "language_info": {
   "codemirror_mode": {
    "name": "ipython",
    "version": 3
   },
   "file_extension": ".py",
   "mimetype": "text/x-python",
   "name": "python",
   "nbconvert_exporter": "python",
   "pygments_lexer": "ipython3",
   "version": "3.6.8"
  }
 },
 "nbformat": 4,
 "nbformat_minor": 4
}
